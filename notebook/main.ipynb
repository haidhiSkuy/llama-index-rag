{
 "cells": [
  {
   "cell_type": "code",
   "execution_count": 14,
   "metadata": {},
   "outputs": [],
   "source": [
    "import os \n",
    "from dotenv import load_dotenv\n",
    "load_dotenv()\n",
    "\n",
    "from src.db_llm import LLMDB\n",
    "from llama_index.core.vector_stores import VectorStoreQuery\n",
    "\n",
    "from llama_index.core.schema import NodeWithScore\n",
    "from typing import Optional\n",
    "from llama_index.core.response.notebook_utils import display_source_node\n",
    "\n",
    "from openai import AzureOpenAI\n",
    "from llama_index.core import PromptTemplate"
   ]
  },
  {
   "cell_type": "code",
   "execution_count": 2,
   "metadata": {},
   "outputs": [],
   "source": [
    "llmdb = LLMDB()\n",
    "\n",
    "vector_store = llmdb.get_vector_store()\n",
    "embed_model = llmdb.get_llm_embedding()"
   ]
  },
  {
   "cell_type": "code",
   "execution_count": 32,
   "metadata": {},
   "outputs": [],
   "source": [
    "query_str = \"data visualization in Python\"\n",
    "query_embedding = embed_model.get_query_embedding(query_str) \n",
    "\n",
    "query_mode = \"default\"\n",
    "vector_store_query = VectorStoreQuery(\n",
    "    query_embedding=query_embedding, \n",
    "    similarity_top_k=5, \n",
    "    mode=query_mode, \n",
    ")"
   ]
  },
  {
   "cell_type": "code",
   "execution_count": 33,
   "metadata": {},
   "outputs": [],
   "source": [
    "query_result = vector_store.query(vector_store_query)\n",
    "\n",
    "nodes_with_scores = []\n",
    "for index, node in enumerate(query_result.nodes):\n",
    "    score: Optional[float] = None\n",
    "    if query_result.similarities is not None:\n",
    "        score = query_result.similarities[index]\n",
    "    nodes_with_scores.append(NodeWithScore(node=node, score=score))\n",
    "\n",
    "context_str = \" \".join([i.text for i in nodes_with_scores])"
   ]
  },
  {
   "cell_type": "code",
   "execution_count": 40,
   "metadata": {},
   "outputs": [
    {
     "name": "stdout",
     "output_type": "stream",
     "text": [
      "<class 'llama_index.core.schema.NodeWithScore'>\n",
      "<class 'llama_index.core.schema.NodeWithScore'>\n",
      "<class 'llama_index.core.schema.NodeWithScore'>\n",
      "<class 'llama_index.core.schema.NodeWithScore'>\n",
      "<class 'llama_index.core.schema.NodeWithScore'>\n"
     ]
    }
   ],
   "source": [
    "for node in nodes_with_scores: \n",
    "    print(type(node))"
   ]
  },
  {
   "cell_type": "code",
   "execution_count": 35,
   "metadata": {},
   "outputs": [],
   "source": [
    "client = AzureOpenAI(\n",
    "        api_key=\"25417b9e73574c49965cad8f28ab4dd6\",  \n",
    "        api_version=\"2024-02-01\",\n",
    "        azure_endpoint=\"https://openaitcuc.openai.azure.com/\"\n",
    "    ) \n",
    "deployment_name = 'corpu-text-gpt-4o'\n",
    "\n",
    "template = (\n",
    "    \"We have provided context information below. \\n\"\n",
    "    \"---------------------\\n\"\n",
    "    \"{context_str}\"\n",
    "    \"\\n---------------------\\n\"\n",
    "    \"Given this information, please give the summary\"\n",
    ")\n",
    "qa_template = PromptTemplate(template)\n",
    "\n",
    "# you can create text prompt (for completion API)\n",
    "prompt = qa_template.format(context_str=context_str)"
   ]
  },
  {
   "cell_type": "code",
   "execution_count": 36,
   "metadata": {},
   "outputs": [],
   "source": [
    "llm =  AzureOpenAI(\n",
    "    api_key=os.getenv(\"AZURE_OPENAI_API_KEY\"),  \n",
    "    api_version=\"2024-02-01\",\n",
    "    azure_endpoint=os.getenv(\"AZURE_OPENAI_ENDPOINT\")\n",
    ") "
   ]
  },
  {
   "cell_type": "code",
   "execution_count": 37,
   "metadata": {},
   "outputs": [],
   "source": [
    "message = [\n",
    "    {\"role\":\"system\", \"content\":\"\"},\n",
    "    {\"role\":\"user\", \"content\":prompt}\n",
    "]"
   ]
  },
  {
   "cell_type": "code",
   "execution_count": 38,
   "metadata": {},
   "outputs": [],
   "source": [
    "response = llm.chat.completions.create(\n",
    "    model='corpu-text-gpt-4o', \n",
    "    messages=message, \n",
    "    temperature= 0.4, \n",
    "    max_tokens=1000\n",
    ")"
   ]
  },
  {
   "cell_type": "code",
   "execution_count": 39,
   "metadata": {},
   "outputs": [
    {
     "name": "stdout",
     "output_type": "stream",
     "text": [
      "The provided context is an excerpt from a guide on using Python for data science, specifically focusing on data visualization with Pandas and Matplotlib. Here are the key points summarized:\n",
      "\n",
      "1. **Plotting with Matplotlib**: \n",
      "   - You can customize bar plots using parameters like `alpha` for transparency and `title` for naming the plot.\n",
      "   - DataFrames can be plotted directly, treating each column as a separate series. Horizontal bar graphs can be created using `kind='barh'` and stacked bars using `stacked=True`.\n",
      "\n",
      "2. **Color Customization**:\n",
      "   - The default number of colors in a plot is 5. To display more than 5 series, additional colors must be specified using the `color` keyword.\n",
      "\n",
      "3. **Plot Types in Pandas**:\n",
      "   - Pandas offers various plot types such as line plots, vertical and horizontal bar plots, histograms, boxplots, KDE plots, area plots, and pie plots.\n",
      "\n",
      "4. **KDE Plot**:\n",
      "   - KDE (Kernel Density Estimation) plots are used to visualize data distribution, similar to histograms but with smooth curves. They are useful for exploratory data analysis.\n",
      "\n",
      "5. **Seaborn for Advanced Visualization**:\n",
      "   - Seaborn simplifies visualization tasks and can create scatter plots with regression lines and confidence intervals using functions like `seaborn.regplot` and `seaborn.lmplot`.\n",
      "   - `lmplot` can also create color-coded or faceted scatter plots to show interactions between multiple variables.\n",
      "\n",
      "6. **Integration with NumPy and Pandas**:\n",
      "   - Seaborn functions support NumPy arrays, pandas Series, and DataFrames as input, making it easy to visualize data from these structures.\n",
      "\n",
      "The excerpt emphasizes the integration of Pandas with Matplotlib for quick visualizations and introduces Seaborn for more advanced plotting capabilities.\n"
     ]
    }
   ],
   "source": [
    "response = response.choices[0].message.content.replace(' .', '.').strip()\n",
    "print(response)"
   ]
  },
  {
   "cell_type": "code",
   "execution_count": null,
   "metadata": {},
   "outputs": [],
   "source": []
  }
 ],
 "metadata": {
  "kernelspec": {
   "display_name": "venv",
   "language": "python",
   "name": "python3"
  },
  "language_info": {
   "codemirror_mode": {
    "name": "ipython",
    "version": 3
   },
   "file_extension": ".py",
   "mimetype": "text/x-python",
   "name": "python",
   "nbconvert_exporter": "python",
   "pygments_lexer": "ipython3",
   "version": "3.10.12"
  }
 },
 "nbformat": 4,
 "nbformat_minor": 2
}
